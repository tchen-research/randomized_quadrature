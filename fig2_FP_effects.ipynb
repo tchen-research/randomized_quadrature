{
 "cells": [
  {
   "cell_type": "code",
   "execution_count": 1,
   "metadata": {},
   "outputs": [],
   "source": [
    "import numpy as np\n",
    "import scipy as sp\n",
    "from scipy import io,integrate,sparse\n",
    "import matplotlib.pyplot as plt\n",
    "from matplotlib.lines import Line2D\n",
    "import matplotlib.patches as mpatches\n",
    "\n",
    "from spec_bin import *\n",
    "#from lanczos_bin import mystep,distribution\n",
    "\n",
    "from IPython.display import clear_output\n",
    "np.set_printoptions(linewidth=300)\n",
    "%load_ext autoreload\n",
    "%autoreload 2"
   ]
  },
  {
   "cell_type": "code",
   "execution_count": 2,
   "metadata": {},
   "outputs": [],
   "source": [
    "plt.rcParams['text.latex.preamble'] = r'\\renewcommand{\\vec}{\\mathbf}'\n",
    "plt.rc('text', usetex=True)\n",
    "plt.rc('font', family='serif')"
   ]
  },
  {
   "cell_type": "code",
   "execution_count": 3,
   "metadata": {},
   "outputs": [],
   "source": [
    "def model_problem_spectrum(n,rho,kappa=1e3,dtype='float'):\n",
    "    '''\n",
    "    returns spectrum of model problem\n",
    "    '''\n",
    "    lambda1 = 1/kappa\n",
    "    lambdan = 1\n",
    "    Lambda = lambda1+(lambdan-lambda1)*np.arange(n)/(n-1)*rho**np.arange(n-1,-1,-1,dtype=dtype)\n",
    "    \n",
    "    return Lambda"
   ]
  },
  {
   "cell_type": "code",
   "execution_count": 4,
   "metadata": {},
   "outputs": [
    {
     "name": "stdout",
     "output_type": "stream",
     "text": [
      "0.8991493552100425 0.7062252853346979 0.38840835544205804 0.255460730941343\n",
      "2.879030347457956e-12 1.8835564518718626\n",
      "0.6178912270780177 0.04851490227617722 0.5985100072159681 0.6251910024703324\n",
      "5.2763349245310565e-14 7.320277508730117\n"
     ]
    }
   ],
   "source": [
    "expr1 = {\n",
    "    'lam': model_problem_spectrum(300,.85,1e3),\n",
    "    'k_max': 100,\n",
    "    'k_skip': 2,\n",
    "    'd':500,\n",
    "    'f': lambda x: 1/x\n",
    "}\n",
    "\n",
    "lam2 = np.load('matrices/California_eigs.npy').flatten()\n",
    "lam2 /= np.max(np.abs(lam2))\n",
    "\n",
    "expr2 = {\n",
    "    'lam': lam2,\n",
    "    'k_max': 600,\n",
    "    'k_skip': 10,\n",
    "    'd':2000,\n",
    "    'f': lambda x: np.abs(x)\n",
    "}\n",
    "\n",
    "exprs = [expr1,expr2]\n",
    "\n",
    "GQ_err = []\n",
    "GQro_err = []\n",
    "IQ_err = []\n",
    "AQ_err = []\n",
    "HQ_err = []\n",
    "    \n",
    "for expr_idx,expr in enumerate(exprs):\n",
    "    \n",
    "    lam = expr['lam']\n",
    "    k_max = expr['k_max']\n",
    "    k_skip = expr['k_skip']\n",
    "    d = expr['d']\n",
    "\n",
    "    n = len(lam)\n",
    "    a,b = min(lam),max(lam)\n",
    "    \n",
    "    A = sp.sparse.spdiags(lam,0,n,n)\n",
    "\n",
    "    v = np.ones(n)\n",
    "    v/=np.linalg.norm(v)\n",
    "\n",
    "    f = expr['f']\n",
    "\n",
    "    \n",
    "    GQ_err.append(np.full(k_max,np.nan))\n",
    "    GQro_err.append(np.full(k_max,np.nan))\n",
    "    IQ_err.append(np.full(k_max,np.nan))\n",
    "    AQ_err.append(np.full(k_max,np.nan))\n",
    "    HQ_err.append(np.full(k_max,np.nan))\n",
    "    \n",
    "    (α,β) = lanczos(A,v,k_max)\n",
    "    (αro,βro) = lanczos_reorth(A,v,min(k_max,n),reorth=True)\n",
    "\n",
    "    print(np.max(np.abs(α[:min(k_max,n)]-αro)),np.max(np.abs(αro)),\\\n",
    "          np.max(np.abs(β[:min(k_max,n)]-βro)),np.max(np.abs(βro)))\n",
    "\n",
    "    αT = np.ones(max(2*k_max,d))*(a+b)/2\n",
    "    βT = np.ones(max(2*k_max,d))*(b-a)/4\n",
    "    βT[0] *= np.sqrt(2)\n",
    "    m = get_chebyshev_moments(A,v,k_max,a,b)\n",
    "    m_lan = get_moments_from_lanczos(A,v,2*k_max,αT,βT,T=(α,β))\n",
    "    \n",
    "    print(np.max(np.abs((m-m_lan))),sp.sparse.linalg.norm(A))\n",
    "    \n",
    "    GQ_err[-1][0] = v.T@(f(lam)*v)\n",
    "    GQro_err[-1][0] = v.T@(f(lam)*v)\n",
    "    IQ_err[-1][0] = v.T@(f(lam)*v)\n",
    "    AQ_err[-1][0] = v.T@(f(lam)*v)\n",
    "    for k in range(k_skip,k_max,k_skip):\n",
    "        θ,ω = get_gq(k,α,β)\n",
    "        GQ_err[-1][k] = ω@f(θ) - v.T@(f(lam)*v)\n",
    "\n",
    "        if k<n:\n",
    "            θ,ω = get_gq(k,αro,βro)\n",
    "            GQro_err[-1][k]= ω@f(θ) - v.T@(f(lam)*v)\n",
    "        \n",
    "        s = 2*k\n",
    "        θ,ω = get_iq(m,s,αT,βT)\n",
    "        IQ_err[-1][k] = ω@f(θ) - v.T@(f(lam)*v)\n",
    "        \n",
    "        θ,ω = get_aaq(m,s,d,αT,βT)\n",
    "        AQ_err[-1][k] = ω@f(θ) - v.T@(f(lam)*v)\n",
    "        \n",
    "        αH = np.ones(2*k_max)*(a+b)/2\n",
    "        βH = np.ones(2*k_max)*(b-a)/4\n",
    "        αH[:k] = α[:k]\n",
    "        βH[:k] = β[:k]\n",
    "        \n",
    "        mH = get_moments_from_lanczos(A,v,2*k,αH,βH,T=(α,β))\n",
    "        θ,ω = get_iq(mH,s,αH,βH)\n",
    "        HQ_err[-1][k] = ω@f(θ) - v.T@(f(lam)*v)"
   ]
  },
  {
   "cell_type": "code",
   "execution_count": 5,
   "metadata": {},
   "outputs": [
    {
     "data": {
      "image/png": "[encoded data removed]",
      "text/plain": [
       "<Figure size 576x216 with 2 Axes>"
      ]
     },
     "metadata": {
      "needs_background": "light"
     },
     "output_type": "display_data"
    }
   ],
   "source": [
    "fig,axs = plt.subplots(1,2,figsize=(8,3),sharey=True)\n",
    "fig.subplots_adjust(wspace=0.05)\n",
    "\n",
    "for expr_idx,expr in enumerate(exprs):\n",
    "    \n",
    "    lam = expr['lam']\n",
    "    k_max = expr['k_max']\n",
    "    n = len(lam)\n",
    "    a,b = min(lam),max(lam)\n",
    "    \n",
    "    axs[expr_idx].plot(np.abs(GQ_err[expr_idx])/np.abs(GQ_err[expr_idx])[0],label='GQ',marker='o',ms=3,ls='None',color='#073642')\n",
    "    axs[expr_idx].plot(np.abs(IQ_err[expr_idx])/np.abs(IQ_err[expr_idx])[0],label='IQ',marker='s',ms=3,ls='None',fillstyle='none',color='#073642')\n",
    "    axs[expr_idx].plot(np.abs(AQ_err[expr_idx])/np.abs(AQ_err[expr_idx])[0],label='AQ',marker='^',ms=3,ls='None',color='#073642')\n",
    "    axs[expr_idx].plot(np.abs(GQro_err[expr_idx])/np.abs(GQro_err[expr_idx])[0],label='GQro',marker='o',ms=3,ls='None',fillstyle='none',color='#073642')\n",
    "   # axs[expr_idx].plot(np.abs(HQ_err[expr_idx]),label='HQ',marker='.')\n",
    "\n",
    "\n",
    "#axs[0].legend()\n",
    "axs[0].set_xlabel('number of matvec: $k$')\n",
    "axs[1].set_xlabel('number of matvec: $k$')\n",
    "axs[0].set_ylabel(r'error: $|\\mathrm{tr}(f(\\vec{A}))-\\int f \\mathrm{d}[\\Psi]_k^\\circ|$')\n",
    "\n",
    "axs[0].set_yscale('log')\n",
    "axs[0].set_ylim(1e-17,1e1)\n",
    "\n",
    "plt.savefig('imgs/FP_effects.pdf',bbox_inches='tight')"
   ]
  },
  {
   "cell_type": "code",
   "execution_count": null,
   "metadata": {},
   "outputs": [],
   "source": []
  }
 ],
 "metadata": {
  "kernelspec": {
   "display_name": "Python 3",
   "language": "python",
   "name": "python3"
  },
  "language_info": {
   "codemirror_mode": {
    "name": "ipython",
    "version": 3
   },
   "file_extension": ".py",
   "mimetype": "text/x-python",
   "name": "python",
   "nbconvert_exporter": "python",
   "pygments_lexer": "ipython3",
   "version": "3.8.3"
  }
 },
 "nbformat": 4,
 "nbformat_minor": 4
}
