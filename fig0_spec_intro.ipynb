{
 "cells": [
  {
   "cell_type": "code",
   "execution_count": 1,
   "metadata": {},
   "outputs": [],
   "source": [
    "import numpy as np\n",
    "import scipy as sp\n",
    "from scipy import io,integrate,sparse\n",
    "import matplotlib.pyplot as plt\n",
    "from matplotlib.lines import Line2D\n",
    "import matplotlib.patches as mpatches\n",
    "\n",
    "from spec_bin import *\n",
    "#from lanczos_bin import mystep,distribution\n",
    "\n",
    "from IPython.display import clear_output\n",
    "np.set_printoptions(linewidth=300)\n",
    "%load_ext autoreload\n",
    "%autoreload 2"
   ]
  },
  {
   "cell_type": "code",
   "execution_count": 2,
   "metadata": {},
   "outputs": [],
   "source": [
    "plt.rcParams['text.latex.preamble'] = r'\\renewcommand{\\vec}{\\mathbf}'\n",
    "plt.rc('text', usetex=True)\n",
    "plt.rc('font', family='serif')"
   ]
  },
  {
   "cell_type": "code",
   "execution_count": 3,
   "metadata": {},
   "outputs": [],
   "source": [
    "def mu_T(x,a,b): \n",
    "    with np.errstate(divide='ignore',invalid='ignore'):\n",
    "        return 1/(np.pi)/(np.sqrt((x-a)*(b-x)))"
   ]
  },
  {
   "cell_type": "code",
   "execution_count": 4,
   "metadata": {},
   "outputs": [],
   "source": [
    "N = 100\n",
    "lam = np.sort(np.log(np.linspace(1e-3,1-1e-3,N)/(1-np.linspace(1e-3,1-1e-3,N))))\n",
    "N = len(lam)\n",
    "\n",
    "a = min(lam)-1e-1\n",
    "b = max(lam)+1e-1\n",
    "\n",
    "k_max = 8"
   ]
  },
  {
   "cell_type": "code",
   "execution_count": 5,
   "metadata": {},
   "outputs": [
    {
     "data": {
      "image/png": "[encoded data removed]",
      "text/plain": [
       "<Figure size 576x216 with 2 Axes>"
      ]
     },
     "metadata": {
      "needs_background": "light"
     },
     "output_type": "display_data"
    }
   ],
   "source": [
    "np.random.seed(6)\n",
    "\n",
    "fig,axs = plt.subplots(1,2,figsize=(8,3),sharey=True)\n",
    "fig.subplots_adjust(wspace=0.05)\n",
    "\n",
    "axs[0].step(lam,np.arange(N)/N,where='post',lw=1,color='#073642')\n",
    "\n",
    "for i in range(10):\n",
    "    v = np.random.randn(N)\n",
    "    v /= np.linalg.norm(v)\n",
    "\n",
    "    axs[0].step(np.append(a,lam),np.append(0,np.cumsum(v**2)),where='post',lw=1,color='#073642',alpha=.2)\n",
    "\n",
    "\n",
    "(αro,βro) = lanczos_reorth(np.diag(lam),v,k_max,reorth=True)\n",
    "θ,ω = get_gq(k_max,αro,βro)\n",
    "\n",
    "\n",
    "αT = np.ones(2*k_max)*(a+b)/2\n",
    "βT = np.ones(2*k_max)*(b-a)/4\n",
    "βT[0] *= np.sqrt(2)\n",
    "m = get_chebyshev_moments(np.diag(lam),v,k_max,a,b)\n",
    "xx = np.linspace(a+1e-1,b-1e-1,200)\n",
    "AQ = eval_poly(xx,m*jackson_weights(2*k_max+1 ),αT,βT)\n",
    "\n",
    "\n",
    "axs[1].step(np.append(a,lam),np.append(0,np.cumsum(v**2)),where='post',lw=1,color='#073642',alpha=.2)\n",
    "axs[1].step(θ,np.cumsum(ω),where='post',lw=1,color='#073642',ls='--')\n",
    "axs[1].plot(xx,np.cumsum(AQ*mu_T(xx,a,b))*(xx[1]-xx[0]),lw=1,color='#073642',ls='-.')\n",
    "\n",
    "plt.savefig('imgs/intro_spec_approx.pdf',bbox_inches='tight')"
   ]
  },
  {
   "cell_type": "code",
   "execution_count": 6,
   "metadata": {},
   "outputs": [
    {
     "data": {
      "text/plain": [
       "[<matplotlib.lines.Line2D at 0x7f4ba499c400>]"
      ]
     },
     "execution_count": 6,
     "metadata": {},
     "output_type": "execute_result"
    }
   ],
   "source": [
    "mystep(np.append(a,lam),np.append(0,np.cumsum(v**2)),ax=axs[1])"
   ]
  },
  {
   "cell_type": "code",
   "execution_count": null,
   "metadata": {},
   "outputs": [],
   "source": []
  }
 ],
 "metadata": {
  "kernelspec": {
   "display_name": "Python 3",
   "language": "python",
   "name": "python3"
  },
  "language_info": {
   "codemirror_mode": {
    "name": "ipython",
    "version": 3
   },
   "file_extension": ".py",
   "mimetype": "text/x-python",
   "name": "python",
   "nbconvert_exporter": "python",
   "pygments_lexer": "ipython3",
   "version": "3.8.3"
  }
 },
 "nbformat": 4,
 "nbformat_minor": 4
}
