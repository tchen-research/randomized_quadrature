{
 "cells": [
  {
   "cell_type": "code",
   "execution_count": 1,
   "metadata": {},
   "outputs": [],
   "source": [
    "import numpy as np\n",
    "import scipy as sp\n",
    "from scipy import io,integrate,sparse\n",
    "import matplotlib.pyplot as plt\n",
    "from matplotlib.lines import Line2D\n",
    "import matplotlib.patches as mpatches\n",
    "\n",
    "from spec_bin import *\n",
    "#from lanczos_bin import mystep,distribution\n",
    "\n",
    "from IPython.display import clear_output\n",
    "np.set_printoptions(linewidth=300)\n",
    "%load_ext autoreload\n",
    "%autoreload 2"
   ]
  },
  {
   "cell_type": "code",
   "execution_count": 2,
   "metadata": {},
   "outputs": [],
   "source": [
    "plt.rcParams['text.latex.preamble'] = r'\\renewcommand{\\vec}{\\mathbf}'\n",
    "plt.rc('text', usetex=True)\n",
    "plt.rc('font', family='serif')"
   ]
  },
  {
   "cell_type": "code",
   "execution_count": 3,
   "metadata": {},
   "outputs": [],
   "source": [
    "class get_hamiltonian():\n",
    "\n",
    "    def __init__(self,J,Jz,s):\n",
    "        self.N = len(J)\n",
    "        self.s = s\n",
    "        self.J = J\n",
    "        self.Jz = Jz\n",
    "        self.dtype = np.float128\n",
    "\n",
    "        self.M = int(2*self.s+1)\n",
    "        self.Sx = np.zeros((self.M,self.M),dtype='complex')\n",
    "        self.Sy = np.zeros((self.M,self.M),dtype='complex')\n",
    "        self.Sz = np.zeros((self.M,self.M),dtype='complex')\n",
    "        for i in range(self.M):\n",
    "            for j in range(self.M):\n",
    "                self.Sx[i,j] = ((i==j+1)+(i+1==j))*np.sqrt(s*(s+1)-(s-i)*(s-j))/2\n",
    "                self.Sy[i,j] = ((i+1==j)-(i==j+1))*np.sqrt(s*(s+1)-(s-i)*(s-j))/2j\n",
    "                self.Sz[i,j] = (i==j)*(s-i)\n",
    "\n",
    "    def __matmul__(self,v):\n",
    "                \n",
    "        if v.ndim == 2:\n",
    "            m,n = v.shape\n",
    "        else:\n",
    "            m = len(v)\n",
    "            n = 1 \n",
    "    \n",
    "        out = np.zeros((m,n),dtype='complex')\n",
    "\n",
    "        for j in range(self.N):\n",
    "            if  np.count_nonzero(self.J[:,j]) != 0:\n",
    "                I1 = self.M**j\n",
    "                I2 = self.M**(self.N-j-1)\n",
    "                Sxj_v = ((self.Sx@v.T.reshape(n,I1,-1,I2))).reshape(n,-1).T\n",
    "                Syj_v = ((self.Sy@v.T.reshape(n,I1,-1,I2))).reshape(n,-1).T\n",
    "                Szj_v = ((self.Sz@v.T.reshape(n,I1,-1,I2))).reshape(n,-1).T\n",
    "\n",
    "                # symmetry\n",
    "                for i in range(j):\n",
    "                    if self.J[i,j] != 0:\n",
    "                        I1 = self.M**i\n",
    "                        I2 = self.M**(self.N-i-1)\n",
    "                        Sxi_Sxj_v = ((self.Sx@Sxj_v.T.reshape(n,I1,-1,I2))).reshape(n,-1).T\n",
    "                        Syi_Syj_v = ((self.Sy@Syj_v.T.reshape(n,I1,-1,I2))).reshape(n,-1).T\n",
    "\n",
    "                        out += (2-(i==j))*self.J[i,j] * ( Sxi_Sxj_v + Syi_Syj_v )\n",
    "\n",
    "                out += self.Jz[j] * Szj_v\n",
    "            \n",
    "        return out.flatten() if n==1 else out\n",
    "    \n",
    "    def tosparse(self):\n",
    "                \n",
    "        out = sp.sparse.coo_matrix((self.M**self.N,self.M**self.N),dtype='complex')\n",
    "\n",
    "        for j in range(self.N):\n",
    "            if  np.count_nonzero(self.J[:,j]) != 0:\n",
    "                I1 = sp.sparse.eye(self.M**j,dtype='complex')\n",
    "                I2 = sp.sparse.eye(self.M**(self.N-j-1),dtype='complex')\n",
    "                Sxj = sp.sparse.kron(sp.sparse.kron(I1,self.Sx),I2)\n",
    "                Syj = sp.sparse.kron(sp.sparse.kron(I1,self.Sy),I2)\n",
    "                Szj = sp.sparse.kron(sp.sparse.kron(I1,self.Sz),I2)\n",
    "\n",
    "                for i in range(j):\n",
    "                    if self.J[i,j] != 0:\n",
    "                        I1 = sp.sparse.eye(self.M**i,dtype='complex')\n",
    "                        I2 = sp.sparse.eye(self.M**(self.N-i-1),dtype='complex')\n",
    "                        Sxi_Sxj = sp.sparse.kron(sp.sparse.kron(I1,self.Sx),I2)@Sxj\n",
    "                        Syi_Syj = sp.sparse.kron(sp.sparse.kron(I1,self.Sy),I2)@Syj\n",
    "                        #Szi_Szj = sp.sparse.kron(sp.sparse.kron(I1,self.Sz),I2)@Szj\n",
    "\n",
    "                        out += (2-(i==j))*self.J[i,j] * ( Sxi_Sxj + Syi_Syj )\n",
    "\n",
    "                out += self.Jz[j] * Szj\n",
    "            \n",
    "        return out"
   ]
  },
  {
   "cell_type": "code",
   "execution_count": 4,
   "metadata": {},
   "outputs": [],
   "source": [
    "N = 12\n",
    "s = 1/2\n",
    "n = int((2*s+1)**N)"
   ]
  },
  {
   "cell_type": "code",
   "execution_count": 9,
   "metadata": {},
   "outputs": [],
   "source": [
    "J = np.zeros((N,N))\n",
    "for i in range(N):\n",
    "    for j in range(N):\n",
    "        J[i,j] = ((i-j)%N==1) + ((j-i)%N==1)"
   ]
  },
  {
   "cell_type": "code",
   "execution_count": 10,
   "metadata": {},
   "outputs": [],
   "source": [
    "H_mf = get_hamiltonian(J,np.zeros(N),s).tosparse()"
   ]
  },
  {
   "cell_type": "code",
   "execution_count": 11,
   "metadata": {},
   "outputs": [],
   "source": [
    "λ=np.linalg.eigvalsh(H_mf.A)"
   ]
  },
  {
   "cell_type": "code",
   "execution_count": 17,
   "metadata": {},
   "outputs": [
    {
     "name": "stdout",
     "output_type": "stream",
     "text": [
      "iter=49\n"
     ]
    }
   ],
   "source": [
    "nv = 300\n",
    "k_max = 50\n",
    "\n",
    "v = np.sign(np.random.rand(n,nv)-.5) / np.sqrt(n)\n",
    "\n",
    "(αL,βL) = lanczos_block(H_mf,v,k_max,verbose=True)"
   ]
  },
  {
   "cell_type": "code",
   "execution_count": 18,
   "metadata": {},
   "outputs": [],
   "source": [
    "k = k_max\n",
    "\n",
    "θ_gq = np.full((nv,k),np.nan)\n",
    "ω_gq = np.full((nv,k),np.nan)\n",
    "\n",
    "for j in range(nv):\n",
    "    θ_gq[j],ω_gq[j] = get_gq(k,αL[:,j],βL[:,j])\n",
    "    \n",
    "θ_gq_ave = θ_gq.reshape(-1)\n",
    "ω_gq_ave = ω_gq.reshape(-1)/nv"
   ]
  },
  {
   "cell_type": "code",
   "execution_count": 19,
   "metadata": {},
   "outputs": [],
   "source": [
    "a,b = np.min(θ_gq),np.max(θ_gq)\n",
    "\n",
    "αT = np.ones(2*k_max+1)*(a+b)/2\n",
    "βT = np.ones(2*k_max+1)*(b-a)/4\n",
    "βT[0] *= np.sqrt(2)\n",
    "\n",
    "m = np.full((nv,2*k+1),np.nan)\n",
    "\n",
    "for j in range(nv):\n",
    "    m[j] = get_moments_from_lanczos(H_mf,v,2*k_max,αT,βT,T=(αL[:,j],βL[:,j]))\n",
    "\n",
    "θ_iq = np.full((nv,2*k+1),np.nan)\n",
    "ω_iq = np.full((nv,2*k+1),np.nan)\n",
    "θ_diq = np.full((nv,2*k+1),np.nan)\n",
    "ω_diq = np.full((nv,2*k+1),np.nan)\n",
    "\n",
    "ρ = jackson_weights(2*k+1)\n",
    "for j in range(nv):\n",
    "    θ_iq[j],ω_iq[j] = get_iq(m[j],2*k,αT,βT)\n",
    "    θ_diq[j],ω_diq[j] = get_iq(m[j]*ρ,2*k,αT,βT)\n",
    "    \n",
    "θ_iq_ave = np.mean(θ_iq,axis=0)\n",
    "ω_iq_ave = np.mean(ω_iq,axis=0)\n",
    "θ_diq_ave = np.mean(θ_diq,axis=0)\n",
    "ω_diq_ave = np.mean(ω_diq,axis=0)"
   ]
  },
  {
   "cell_type": "code",
   "execution_count": 20,
   "metadata": {},
   "outputs": [],
   "source": [
    "def C_kB(β,θ,ω,offset=0):\n",
    "    \n",
    "    return β**2*( ( ω@(θ**2*np.exp(-β*(θ-offset))) ) / ( ω@(np.exp(-β*(θ-offset))) ) \\\n",
    "                - ( ( ω@(θ*np.exp(-β*(θ-offset))) )    / ( ω@(np.exp(-β*(θ-offset))) ) )**2)\n",
    "\n",
    "n_β = 500\n",
    "\n",
    "kBT = np.logspace(-5,2,n_β)\n",
    "β = 1/kBT\n",
    "\n",
    "C_kB_ED = np.full(n_β,np.nan)\n",
    "\n",
    "C_kB_gq_ave = np.full(n_β,np.nan)\n",
    "C_kB_iq_ave = np.full(n_β,np.nan)\n",
    "C_kB_diq_ave = np.full(n_β,np.nan)\n",
    "for i in range(n_β):\n",
    "    with np.errstate(over='ignore', invalid='ignore'):\n",
    "        C_kB_ED[i] = C_kB(β[i],λ,np.ones(n),θ_gq_ave[0])\n",
    "        C_kB_gq_ave[i] = C_kB(β[i],θ_gq_ave,ω_gq_ave,θ_gq_ave[0])\n",
    "        C_kB_iq_ave[i] = C_kB(β[i],θ_iq_ave,ω_iq_ave,θ_gq_ave[0])\n",
    "        C_kB_diq_ave[i] = C_kB(β[i],θ_diq_ave,ω_diq_ave,θ_gq_ave[0])"
   ]
  },
  {
   "cell_type": "code",
   "execution_count": 21,
   "metadata": {},
   "outputs": [
    {
     "data": {
      "image/png": "[encoded data removed]",
      "text/plain": [
       "<Figure size 576x216 with 1 Axes>"
      ]
     },
     "metadata": {
      "needs_background": "light"
     },
     "output_type": "display_data"
    }
   ],
   "source": [
    "plt.subplots(figsize=(8,3))\n",
    "\n",
    "plt.plot(kBT,C_kB_ED,label='ed',color='#073642',lw=.7)\n",
    "\n",
    "plt.plot(kBT,C_kB_gq_ave,label='gq',color='#073642',ls='--',lw=1)\n",
    "plt.plot(kBT,C_kB_iq_ave,label='iq',color='#073642',ls='-.',lw=1)\n",
    "plt.plot(kBT,C_kB_diq_ave,label='diq',color='#073642',ls=':',lw=1)\n",
    "\n",
    "plt.xscale('log')\n",
    "#plt.legend()\n",
    "\n",
    "plt.ylabel(r'$C(\\beta)/k_B$')\n",
    "plt.xlabel(r'$k_B T/|J|$')\n",
    "plt.xlim(1e-4,1e2)\n",
    "plt.ylim(-.5,4.5)\n",
    "\n",
    "plt.savefig('imgs/spin_heat_capacity.pdf',bbox_inches='tight')"
   ]
  },
  {
   "cell_type": "code",
   "execution_count": null,
   "metadata": {},
   "outputs": [],
   "source": []
  }
 ],
 "metadata": {
  "kernelspec": {
   "display_name": "Python 3",
   "language": "python",
   "name": "python3"
  },
  "language_info": {
   "codemirror_mode": {
    "name": "ipython",
    "version": 3
   },
   "file_extension": ".py",
   "mimetype": "text/x-python",
   "name": "python",
   "nbconvert_exporter": "python",
   "pygments_lexer": "ipython3",
   "version": "3.8.3"
  }
 },
 "nbformat": 4,
 "nbformat_minor": 5
}
