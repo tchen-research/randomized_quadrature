{
 "cells": [
  {
   "cell_type": "code",
   "execution_count": 2,
   "metadata": {},
   "outputs": [],
   "source": [
    "import matplotlib.pyplot as plt"
   ]
  },
  {
   "cell_type": "code",
   "execution_count": 8,
   "metadata": {},
   "outputs": [
    {
     "data": {
      "image/png": "[encoded data removed]",
      "text/plain": [
       "<Figure size 40x10 with 1 Axes>"
      ]
     },
     "metadata": {},
     "output_type": "display_data"
    },
    {
     "data": {
      "image/png": "[encoded data removed]",
      "text/plain": [
       "<Figure size 40x10 with 1 Axes>"
      ]
     },
     "metadata": {},
     "output_type": "display_data"
    },
    {
     "data": {
      "image/png": "[encoded data removed]",
      "text/plain": [
       "<Figure size 40x10 with 1 Axes>"
      ]
     },
     "metadata": {},
     "output_type": "display_data"
    },
    {
     "data": {
      "image/png": "[encoded data removed]",
      "text/plain": [
       "<Figure size 40x10 with 1 Axes>"
      ]
     },
     "metadata": {},
     "output_type": "display_data"
    },
    {
     "data": {
      "image/png": "[encoded data removed]",
      "text/plain": [
       "<Figure size 40x10 with 1 Axes>"
      ]
     },
     "metadata": {},
     "output_type": "display_data"
    },
    {
     "data": {
      "image/png": "[encoded data removed]",
      "text/plain": [
       "<Figure size 40x10 with 1 Axes>"
      ]
     },
     "metadata": {},
     "output_type": "display_data"
    },
    {
     "data": {
      "image/png": "[encoded data removed]",
      "text/plain": [
       "<Figure size 40x10 with 1 Axes>"
      ]
     },
     "metadata": {},
     "output_type": "display_data"
    },
    {
     "data": {
      "image/png": "[encoded data removed]",
      "text/plain": [
       "<Figure size 40x10 with 1 Axes>"
      ]
     },
     "metadata": {},
     "output_type": "display_data"
    },
    {
     "data": {
      "image/png": "[encoded data removed]",
      "text/plain": [
       "<Figure size 40x10 with 1 Axes>"
      ]
     },
     "metadata": {},
     "output_type": "display_data"
    },
    {
     "data": {
      "image/png": "[encoded data removed]",
      "text/plain": [
       "<Figure size 40x10 with 1 Axes>"
      ]
     },
     "metadata": {},
     "output_type": "display_data"
    }
   ],
   "source": [
    "legend_entries = [\n",
    "    ['solid','k','-',2,1],\n",
    "    ['solid_alpha','k','-',2,.2],\n",
    "    ['dash','k','--',2,1],\n",
    "    ['dashdot','k','-.',2,1],\n",
    "    ['dashdot_thin','k','-.',1,1],\n",
    "    ['dot','k',':',2,1],\n",
    "    ['solid_thin','k','-',1,1],\n",
    "    ['solid_thin_alpha','k','-',1,.2],\n",
    "    ['dot_thin','k',':',1,1],\n",
    "    ['dash_thin','k','--',1,1],\n",
    "]\n",
    "\n",
    "\n",
    "mm = 1/2.54/100\n",
    "\n",
    "for name,c,ls,lw,alpha in legend_entries:\n",
    "    plt.subplots(figsize=(.4,.1))\n",
    "    plt.plot([.05,.4-.05],[.05,.05],color=c,ls=ls,lw=lw,alpha=alpha)\n",
    "    plt.axis('off')\n",
    "\n",
    "    plt.subplots_adjust(bottom=0, top=1, left=.15, right=.85)\n",
    "    plt.savefig(f'imgs/legend/{name}.pdf')"
   ]
  },
  {
   "cell_type": "code",
   "execution_count": 9,
   "metadata": {},
   "outputs": [
    {
     "data": {
      "image/png": "[encoded data removed]",
      "text/plain": [
       "<Figure size 25x10 with 1 Axes>"
      ]
     },
     "metadata": {},
     "output_type": "display_data"
    },
    {
     "data": {
      "image/png": "[encoded data removed]",
      "text/plain": [
       "<Figure size 25x10 with 1 Axes>"
      ]
     },
     "metadata": {},
     "output_type": "display_data"
    },
    {
     "data": {
      "image/png": "[encoded data removed]",
      "text/plain": [
       "<Figure size 25x10 with 1 Axes>"
      ]
     },
     "metadata": {},
     "output_type": "display_data"
    },
    {
     "data": {
      "image/png": "[encoded data removed]",
      "text/plain": [
       "<Figure size 25x10 with 1 Axes>"
      ]
     },
     "metadata": {},
     "output_type": "display_data"
    },
    {
     "data": {
      "image/png": "[encoded data removed]",
      "text/plain": [
       "<Figure size 25x10 with 1 Axes>"
      ]
     },
     "metadata": {},
     "output_type": "display_data"
    },
    {
     "data": {
      "image/png": "[encoded data removed]",
      "text/plain": [
       "<Figure size 25x10 with 1 Axes>"
      ]
     },
     "metadata": {},
     "output_type": "display_data"
    }
   ],
   "source": [
    "legend_entries = [\n",
    "    ['circle','k','o',4,'full',1],\n",
    "    ['circle_empty','k','o',4,'none',1],\n",
    "    ['square','k','s',4,'full',1],\n",
    "    ['square_empty','k','s',4,'none',1],\n",
    "    ['tri','k','^',4,'full',1],\n",
    "    ['tria','k','^',4,'full',.1],\n",
    "]\n",
    "\n",
    "\n",
    "mm = 1/2.54/100\n",
    "\n",
    "for name,c,m,ms,fs,alpha in legend_entries:\n",
    "    plt.subplots(figsize=(.25,.1))\n",
    "    plt.plot([.0],[.0],color=c,ls='None',marker=m,ms=ms,fillstyle=fs,alpha=alpha)\n",
    "    plt.axis('off')\n",
    "\n",
    "    plt.subplots_adjust(bottom=0, top=1, left=.25, right=.75)\n",
    "    plt.savefig(f'imgs/legend/{name}.pdf')"
   ]
  },
  {
   "cell_type": "code",
   "execution_count": null,
   "metadata": {},
   "outputs": [],
   "source": []
  }
 ],
 "metadata": {
  "kernelspec": {
   "display_name": "Python 3 (ipykernel)",
   "language": "python",
   "name": "python3"
  },
  "language_info": {
   "codemirror_mode": {
    "name": "ipython",
    "version": 3
   },
   "file_extension": ".py",
   "mimetype": "text/x-python",
   "name": "python",
   "nbconvert_exporter": "python",
   "pygments_lexer": "ipython3",
   "version": "3.10.9"
  }
 },
 "nbformat": 4,
 "nbformat_minor": 4
}
