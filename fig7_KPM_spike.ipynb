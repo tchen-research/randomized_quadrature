{
 "cells": [
  {
   "cell_type": "code",
   "execution_count": 1,
   "metadata": {
    "execution": {
     "iopub.execute_input": "2024-06-20T18:18:20.771877Z",
     "iopub.status.busy": "2024-06-20T18:18:20.771501Z",
     "iopub.status.idle": "2024-06-20T18:18:21.125984Z",
     "shell.execute_reply": "2024-06-20T18:18:21.125540Z"
    }
   },
   "outputs": [],
   "source": [
    "import numpy as np\n",
    "import scipy as sp\n",
    "from scipy import io,integrate,sparse\n",
    "import matplotlib.pyplot as plt\n",
    "from matplotlib.lines import Line2D\n",
    "import matplotlib.patches as mpatches\n",
    "\n",
    "from spec_bin import *\n",
    "#from lanczos_bin import mystep,distribution\n",
    "\n",
    "from IPython.display import clear_output\n",
    "np.set_printoptions(linewidth=300)\n",
    "%load_ext autoreload\n",
    "%autoreload 2"
   ]
  },
  {
   "cell_type": "code",
   "execution_count": 2,
   "metadata": {
    "execution": {
     "iopub.execute_input": "2024-06-20T18:18:21.128476Z",
     "iopub.status.busy": "2024-06-20T18:18:21.128273Z",
     "iopub.status.idle": "2024-06-20T18:18:21.136735Z",
     "shell.execute_reply": "2024-06-20T18:18:21.136264Z"
    }
   },
   "outputs": [],
   "source": [
    "plt.rcParams['text.latex.preamble'] = r'\\renewcommand{\\vec}{\\mathbf}'\n",
    "plt.rc('text', usetex=True)\n",
    "plt.rc('font', family='serif')"
   ]
  },
  {
   "cell_type": "code",
   "execution_count": 3,
   "metadata": {
    "execution": {
     "iopub.execute_input": "2024-06-20T18:18:21.138791Z",
     "iopub.status.busy": "2024-06-20T18:18:21.138473Z",
     "iopub.status.idle": "2024-06-20T18:18:21.147144Z",
     "shell.execute_reply": "2024-06-20T18:18:21.146830Z"
    }
   },
   "outputs": [],
   "source": [
    "def mu_U(x,a,b): \n",
    "    with np.errstate(invalid='ignore'):\n",
    "        return (8/(np.pi*(b-a)**2))*np.sqrt((x-a)*(b-x))\n",
    "    \n",
    "def mu_mp(x,d):\n",
    "     with np.errstate(divide='ignore',invalid='ignore'):\n",
    "        return 1/(2*np.pi*d)*np.sqrt((x-(1-np.sqrt(d))**2)*((1+np.sqrt(d))**2-x))/x"
   ]
  },
  {
   "cell_type": "code",
   "execution_count": 4,
   "metadata": {
    "execution": {
     "iopub.execute_input": "2024-06-20T18:18:21.149051Z",
     "iopub.status.busy": "2024-06-20T18:18:21.148741Z",
     "iopub.status.idle": "2024-06-20T18:18:21.158193Z",
     "shell.execute_reply": "2024-06-20T18:18:21.157822Z"
    }
   },
   "outputs": [],
   "source": [
    "def construct_H(n,k=-1,d=.5):\n",
    "    \"\"\"\n",
    "    n : int, size of T\n",
    "    k : int, size of Tk\n",
    "    \"\"\"\n",
    "    if k==-1:\n",
    "        k=n\n",
    "    \n",
    "    m = int(n/d)\n",
    "    \n",
    "    a = np.zeros(k)\n",
    "    b = np.zeros(k-1)\n",
    "    for j in range(k):\n",
    "        a[j] = np.random.chisquare(df=(m-(j+1)))\n",
    "\n",
    "    for j in range(k-1):\n",
    "        b[j] = np.random.chisquare(df=(n-(j+1)))\n",
    "    \n",
    "    b = np.sqrt(b) / (np.sqrt(m))\n",
    "    a = np.sqrt(a) / (np.sqrt(m))\n",
    "    \n",
    "    T = sp.sparse.spdiags(a,0,k,k)+sp.sparse.spdiags(b,1,k,k)\n",
    "    \n",
    "    return T@T.T"
   ]
  },
  {
   "cell_type": "code",
   "execution_count": 5,
   "metadata": {
    "execution": {
     "iopub.execute_input": "2024-06-20T18:18:21.159886Z",
     "iopub.status.busy": "2024-06-20T18:18:21.159698Z",
     "iopub.status.idle": "2024-06-20T18:18:21.168587Z",
     "shell.execute_reply": "2024-06-20T18:18:21.168082Z"
    }
   },
   "outputs": [],
   "source": [
    "n = 1000000\n",
    "nz = n//10\n",
    "d = 0.3;\n",
    "\n",
    "z = 1.5\n",
    "\n",
    "a=(1-np.sqrt(d))**2\n",
    "b=(1+np.sqrt(d))**2\n",
    "\n",
    "intervals_raw = np.array([[z,z],[a,b]])\n",
    "intervals = intervals_raw + np.array([[0,0],[-1,1]]) * 0.001\n",
    "\n",
    "a,b = np.min(intervals),np.max(intervals)\n",
    "weights = np.array([.2,.8])"
   ]
  },
  {
   "cell_type": "code",
   "execution_count": 6,
   "metadata": {
    "execution": {
     "iopub.execute_input": "2024-06-20T18:18:21.171248Z",
     "iopub.status.busy": "2024-06-20T18:18:21.171066Z",
     "iopub.status.idle": "2024-06-20T18:18:21.181189Z",
     "shell.execute_reply": "2024-06-20T18:18:21.180799Z"
    }
   },
   "outputs": [],
   "source": [
    "if False:\n",
    "    np.random.seed(0)\n",
    "    A = sp.sparse.block_diag((construct_H(n-nz,n-nz,d),\\\n",
    "                              #-construct_H(n2,n2,d2),\\\n",
    "                              sp.sparse.spdiags(z+1e-10*np.random.randn(nz),0,nz,nz)))\n",
    "\n",
    "    lam,Q = np.linalg.eigh(A.A)\n",
    "\n",
    "    for l in np.reshape(intervals_raw,-1):\n",
    "        plt.axvline(l,color='k',lw=1)\n",
    "\n",
    "    plt.hist(lam,100);"
   ]
  },
  {
   "cell_type": "code",
   "execution_count": 7,
   "metadata": {
    "execution": {
     "iopub.execute_input": "2024-06-20T18:18:21.183124Z",
     "iopub.status.busy": "2024-06-20T18:18:21.182829Z",
     "iopub.status.idle": "2024-06-20T18:18:21.191530Z",
     "shell.execute_reply": "2024-06-20T18:18:21.191158Z"
    }
   },
   "outputs": [],
   "source": [
    "mu = lambda x,a,b: mu_U(x,a,b)\n",
    "\n",
    "def mu2(x):\n",
    "    mu_x = np.zeros_like(x)\n",
    "    l = len(weights)\n",
    "    for i in range(l):\n",
    "        mask = (intervals[i,0]<x)*(x<intervals[i,1])\n",
    "        mu_x[mask] += weights[i]*mu(x[mask],intervals[i,0],intervals[i,1])\n",
    "    return mu_x"
   ]
  },
  {
   "cell_type": "code",
   "execution_count": 8,
   "metadata": {
    "execution": {
     "iopub.execute_input": "2024-06-20T18:18:21.193093Z",
     "iopub.status.busy": "2024-06-20T18:18:21.192958Z",
     "iopub.status.idle": "2024-06-20T18:18:21.205274Z",
     "shell.execute_reply": "2024-06-20T18:18:21.204816Z"
    }
   },
   "outputs": [],
   "source": [
    "k = 25\n",
    "s = 2*k\n",
    "\n",
    "αU = np.ones(s+1)*(a+b)/2\n",
    "βU = np.ones(s+1)*(b-a)/4\n",
    "\n",
    "αU_unscaled = np.zeros(s+1)\n",
    "βU_unscaled = np.ones(s+1)/2\n",
    "\n",
    "α2,β2 = get_op_recurrence(intervals,weights,αU_unscaled,βU_unscaled,s+1)"
   ]
  },
  {
   "cell_type": "code",
   "execution_count": 9,
   "metadata": {
    "execution": {
     "iopub.execute_input": "2024-06-20T18:18:21.207480Z",
     "iopub.status.busy": "2024-06-20T18:18:21.207269Z",
     "iopub.status.idle": "2024-06-20T18:18:36.129243Z",
     "shell.execute_reply": "2024-06-20T18:18:36.128778Z"
    }
   },
   "outputs": [
    {
     "name": "stdout",
     "output_type": "stream",
     "text": [
      "9\n"
     ]
    }
   ],
   "source": [
    "np.random.seed(0)\n",
    "n_trials = 10\n",
    "\n",
    "α  = np.zeros((n_trials,k))\n",
    "β  = np.zeros((n_trials,k))\n",
    "mU = np.zeros((n_trials,s+1))\n",
    "m2 = np.zeros((n_trials,s+1))\n",
    "\n",
    "for trial_idx in range(n_trials):\n",
    "    \n",
    "    clear_output(wait=True)\n",
    "    print(trial_idx)\n",
    "    A = sp.sparse.block_diag((construct_H(n-nz,n-nz,d),\\\n",
    "                              sp.sparse.spdiags(z+1e-10*np.random.randn(nz),0,nz,nz)))\n",
    "\n",
    "    v = np.random.randn(n)\n",
    "    v /= np.linalg.norm(v)\n",
    "    \n",
    "    α[trial_idx],β[trial_idx] = lanczos(A,v,k)\n",
    "    mU[trial_idx] = get_moments_from_lanczos(A,v,s,αU,βU,T=(α[trial_idx],β[trial_idx]))\n",
    "    m2[trial_idx] = get_moments_from_lanczos(A,v,s,α2,β2,T=(α[trial_idx],β[trial_idx]))"
   ]
  },
  {
   "cell_type": "code",
   "execution_count": 10,
   "metadata": {
    "execution": {
     "iopub.execute_input": "2024-06-20T18:18:36.131436Z",
     "iopub.status.busy": "2024-06-20T18:18:36.131044Z",
     "iopub.status.idle": "2024-06-20T18:18:36.454080Z",
     "shell.execute_reply": "2024-06-20T18:18:36.453619Z"
    }
   },
   "outputs": [
    {
     "name": "stderr",
     "output_type": "stream",
     "text": [
      "/tmp/ipykernel_2736851/3662195613.py:3: RuntimeWarning: divide by zero encountered in scalar divide\n",
      "  return (8/(np.pi*(b-a)**2))*np.sqrt((x-a)*(b-x))\n"
     ]
    },
    {
     "data": {
      "image/png": "[encoded data removed]",
      "text/plain": [
       "<Figure size 800x300 with 1 Axes>"
      ]
     },
     "metadata": {},
     "output_type": "display_data"
    }
   ],
   "source": [
    "xx = np.linspace(np.min(intervals),np.max(intervals),5000)\n",
    "\n",
    "fig,axs = plt.subplots(1,1,figsize=(8,3),sharey=True)\n",
    "axs = [axs]\n",
    "\n",
    "AQ_U = eval_poly(xx,np.mean(mU,axis=0),αU,βU)\n",
    "AQ_2 = eval_poly(xx,np.mean(m2,axis=0),α2,β2)\n",
    "\n",
    "axs[0].plot(xx,AQ_U*mu(xx,a,b),color='k',ls=':',lw=1)\n",
    "axs[0].plot(xx,AQ_2*mu2(xx),color='k',ls='-',lw=1.2)\n",
    "\n",
    "axs[0].plot(xx,mu_mp(xx,d)*(1-nz/n),color='k',lw=.7)\n",
    "    \n",
    "#for l in np.reshape(intervals_raw,-1):\n",
    "\n",
    "axs[0].axvline(z,color='k',lw=1)\n",
    "plt.text(z+.05,.45,\\\n",
    "         f'estimated spike mass: {eval_poly(np.array(z,dtype=np.double),np.mean(m2,axis=0),α2,β2)*weights[0]:1.4f}',\\\n",
    "        horizontalalignment='left',verticalalignment='center',bbox={'fc':'white','ec':'None'})\n",
    "\n",
    "axs[0].set_ylim(0,.8)\n",
    "\n",
    "\n",
    "plt.xlabel('position')\n",
    "plt.ylabel('denisty')\n",
    "\n",
    "plt.savefig('imgs/RM_AQ_spiked.pdf',bbox_inches='tight')"
   ]
  },
  {
   "cell_type": "code",
   "execution_count": null,
   "metadata": {},
   "outputs": [],
   "source": []
  }
 ],
 "metadata": {
  "kernelspec": {
   "display_name": "Python 3 (ipykernel)",
   "language": "python",
   "name": "python3"
  },
  "language_info": {
   "codemirror_mode": {
    "name": "ipython",
    "version": 3
   },
   "file_extension": ".py",
   "mimetype": "text/x-python",
   "name": "python",
   "nbconvert_exporter": "python",
   "pygments_lexer": "ipython3",
   "version": "3.10.9"
  }
 },
 "nbformat": 4,
 "nbformat_minor": 4
}
