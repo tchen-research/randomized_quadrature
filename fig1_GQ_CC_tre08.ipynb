{
 "cells": [
  {
   "cell_type": "code",
   "execution_count": 1,
   "metadata": {},
   "outputs": [],
   "source": [
    "import numpy as np\n",
    "import scipy as sp\n",
    "from scipy import io,integrate,sparse\n",
    "import matplotlib.pyplot as plt\n",
    "from matplotlib.lines import Line2D\n",
    "import matplotlib.patches as mpatches\n",
    "\n",
    "from spec_bin import *\n",
    "#from lanczos_bin import mystep,distribution\n",
    "\n",
    "from IPython.display import clear_output\n",
    "np.set_printoptions(linewidth=300)\n",
    "%load_ext autoreload\n",
    "%autoreload 2"
   ]
  },
  {
   "cell_type": "code",
   "execution_count": 2,
   "metadata": {},
   "outputs": [],
   "source": [
    "plt.rcParams['text.latex.preamble'] = r'\\renewcommand{\\vec}{\\mathbf}'\n",
    "plt.rc('text', usetex=True)\n",
    "plt.rc('font', family='serif')"
   ]
  },
  {
   "cell_type": "code",
   "execution_count": 3,
   "metadata": {},
   "outputs": [
    {
     "name": "stdout",
     "output_type": "stream",
     "text": [
      "4.996003610813204e-16 5.273559366969494e-16 1.1102230246251565e-16 0.5773502663028742\n",
      "1.7642137750684128e-15\n",
      "1.9914625504213745e-15 1.4843811943499041e-15 2.220446049250313e-16 0.8779711441727451\n",
      "5.218048215738236e-15\n"
     ]
    }
   ],
   "source": [
    "n = 10000\n",
    "expr1 = {\n",
    "    'lam': np.linspace(-1,1,n,endpoint=False)+1/n,\n",
    "    'k_max': 50,\n",
    "    'd': 500,\n",
    "    'f': lambda x: 1/(1+16*x**2)\n",
    "}\n",
    "\n",
    "n = n//4\n",
    "η=.25\n",
    "expr2 = {\n",
    "    'lam': np.hstack([np.linspace(-1,-1+η,n//2,endpoint=False)+η/n,\\\n",
    "                      np.linspace(1-η,1,n//2,endpoint=False)+η/n])\n",
    ",\n",
    "    'k_max': 50,\n",
    "    'd': 500,\n",
    "    'f': lambda x: 1/(1+16*x**2)\n",
    "}\n",
    "\n",
    "exprs = [expr1,expr2]\n",
    "\n",
    "GQ_err = []\n",
    "IQ_err = []\n",
    "HQ_err = []\n",
    "AQ_err = []\n",
    "\n",
    "for expr_idx,expr in enumerate(exprs):\n",
    "    \n",
    "    lam = expr['lam']\n",
    "    k_max = expr['k_max']\n",
    "    d = expr['d']\n",
    "    n = len(lam)\n",
    "    a,b = -1,1\n",
    "    \n",
    "    A = sp.sparse.spdiags(lam,0,n,n)\n",
    "\n",
    "    v = np.ones(n)\n",
    "    v/=np.linalg.norm(v)\n",
    "\n",
    "    f = expr['f']\n",
    "\n",
    "    \n",
    "    GQ_err.append(np.full(k_max,np.nan))\n",
    "    IQ_err.append(np.full(k_max,np.nan))\n",
    "    HQ_err.append(np.full(k_max,np.nan))\n",
    "    AQ_err.append(np.full(k_max,np.nan))\n",
    "    \n",
    "    (α,β) = lanczos(A,v,k_max)\n",
    "    (αro,βro) = lanczos_reorth(A,v,min(k_max,n),reorth=True)\n",
    "\n",
    "    print(np.max(np.abs(α[:min(k_max,n)]-αro)),np.max(np.abs(αro)),\\\n",
    "          np.max(np.abs(β[:min(k_max,n)]-βro)),np.max(np.abs(βro)))\n",
    "    \n",
    "    αT = np.ones(max(2*k_max,d))*(a+b)/2\n",
    "    βT = np.ones(max(2*k_max,d))*(b-a)/4\n",
    "    βT[0] *= np.sqrt(2)\n",
    "    m = get_chebyshev_moments(A,v,k_max,a,b)\n",
    "    m_lan = get_moments_from_lanczos(A,v,2*k_max,αT,βT,T=(α,β))\n",
    "    \n",
    "    print(np.max(np.abs(m-m_lan)))\n",
    "\n",
    "    GQ_err[-1][0] = v.T@(f(lam)*v)\n",
    "    IQ_err[-1][0] = v.T@(f(lam)*v)\n",
    "    AQ_err[-1][0] = v.T@(f(lam)*v)\n",
    "    for k in range(1,k_max):\n",
    "        θ,ω = get_gq(k,α,β)\n",
    "        GQ_err[-1][k] = ω@f(θ) - v.T@(f(lam)*v)\n",
    "\n",
    "        s = 2*k\n",
    "        θ,ω = get_iq(m,s,αT,βT)\n",
    "        IQ_err[-1][k] = ω@f(θ) - v.T@(f(lam)*v)\n",
    "    \n",
    "        #d = s+1\n",
    "        θ,ω = get_aaq(m,s,d,αT,βT)\n",
    "        AQ_err[-1][k] = ω@f(θ) - v.T@(f(lam)*v)\n",
    "\n",
    "        αH = np.ones(2*k_max)*(a+b)/2\n",
    "        βH = np.ones(2*k_max)*(b-a)/4\n",
    "        αH[:k] = α[:k]\n",
    "        βH[:k] = β[:k]\n",
    "        \n",
    "        mH = get_moments_from_lanczos(A,v,2*k,αH,βH,T=(α,β))\n",
    "        θ,ω = get_iq(mH,s,αH,βH)\n",
    "        HQ_err[-1][k] = ω@f(θ) - v.T@(f(lam)*v)"
   ]
  },
  {
   "cell_type": "code",
   "execution_count": 4,
   "metadata": {},
   "outputs": [
    {
     "data": {
      "image/png": "[encoded data removed]",
      "text/plain": [
       "<Figure size 576x216 with 2 Axes>"
      ]
     },
     "metadata": {
      "needs_background": "light"
     },
     "output_type": "display_data"
    }
   ],
   "source": [
    "fig,axs = plt.subplots(1,2,figsize=(8,3),sharey=True)\n",
    "fig.subplots_adjust(wspace=0.05)\n",
    "\n",
    "for expr_idx,expr in enumerate(exprs):\n",
    "    \n",
    "    lam = expr['lam']\n",
    "    k_max = expr['k_max']\n",
    "    n = len(lam)\n",
    "    a,b = min(lam),max(lam)\n",
    "    \n",
    "    axs[expr_idx].plot(np.abs(GQ_err[expr_idx])/np.abs(GQ_err[expr_idx])[0],label='GQ',marker='o',ms=3,ls='None',color='#073642')\n",
    "    axs[expr_idx].plot(np.abs(IQ_err[expr_idx])/np.abs(IQ_err[expr_idx])[0],label='IQ',marker='s',ms=3,ls='None',fillstyle='none',color='#073642')\n",
    "    axs[expr_idx].plot(np.abs(AQ_err[expr_idx])/np.abs(AQ_err[expr_idx])[0],label='AQ',marker='^',ms=3,ls='None',color='#073642')\n",
    "#    axs[expr_idx].plot(np.abs(HQ_err[expr_idx]),label='HQ',marker='.')\n",
    "\n",
    "ρ=(1+np.sqrt(17))/4\n",
    "\n",
    "#axs[0].plot(ρ**(-4*np.arange(k_max)),label='rate',color='k',ls=':',lw=1)\n",
    "#axs[0].plot(ρ**(-2*np.arange(k_max)),label='rate',color='k',ls=':',lw=1)\n",
    "\n",
    "#axs[1].plot(ρ**(-2*np.arange(k_max)),label='rate',color='k',ls=':',lw=1)\n",
    "#axs[1].plot(.63717**np.arange(k_max),label='rate',ls=':')\n",
    "#axs[1].plot(.3632**(2*np.arange(k_max)),label='rate',color='k',ls=':',lw=1)\n",
    "\n",
    "#axs[0].legend()\n",
    "axs[0].set_xlabel('number of matvec: $k$')\n",
    "axs[1].set_xlabel('number of matmvec: $k$')\n",
    "axs[0].set_ylabel(r'error: $|\\int f \\mathrm{d}\\Psi-\\int f \\mathrm{d}[\\Psi]_k^\\circ\\,|$')\n",
    "\n",
    "axs[0].set_yscale('log')\n",
    "axs[0].set_ylim(1e-17,1e1)\n",
    "\n",
    "plt.savefig('imgs/GQ_CC_tre08.pdf',bbox_inches='tight')"
   ]
  },
  {
   "cell_type": "code",
   "execution_count": null,
   "metadata": {},
   "outputs": [],
   "source": []
  }
 ],
 "metadata": {
  "kernelspec": {
   "display_name": "Python 3",
   "language": "python",
   "name": "python3"
  },
  "language_info": {
   "codemirror_mode": {
    "name": "ipython",
    "version": 3
   },
   "file_extension": ".py",
   "mimetype": "text/x-python",
   "name": "python",
   "nbconvert_exporter": "python",
   "pygments_lexer": "ipython3",
   "version": "3.8.3"
  }
 },
 "nbformat": 4,
 "nbformat_minor": 4
}
