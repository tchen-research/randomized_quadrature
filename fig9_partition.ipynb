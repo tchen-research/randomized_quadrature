{
 "cells": [
  {
   "cell_type": "code",
   "execution_count": 1,
   "id": "66e0dd24",
   "metadata": {
    "execution": {
     "iopub.execute_input": "2024-06-20T18:18:54.932935Z",
     "iopub.status.busy": "2024-06-20T18:18:54.932575Z",
     "iopub.status.idle": "2024-06-20T18:18:55.265616Z",
     "shell.execute_reply": "2024-06-20T18:18:55.265143Z"
    }
   },
   "outputs": [],
   "source": [
    "import numpy as np\n",
    "import scipy as sp\n",
    "from scipy import io,integrate,sparse\n",
    "import matplotlib.pyplot as plt\n",
    "from matplotlib.lines import Line2D\n",
    "import matplotlib.patches as mpatches\n",
    "\n",
    "from spec_bin import *\n",
    "#from lanczos_bin import mystep,distribution\n",
    "\n",
    "from IPython.display import clear_output\n",
    "np.set_printoptions(linewidth=300)\n",
    "%load_ext autoreload\n",
    "%autoreload 2"
   ]
  },
  {
   "cell_type": "code",
   "execution_count": 2,
   "id": "342bf551",
   "metadata": {
    "execution": {
     "iopub.execute_input": "2024-06-20T18:18:55.268302Z",
     "iopub.status.busy": "2024-06-20T18:18:55.268083Z",
     "iopub.status.idle": "2024-06-20T18:18:55.275943Z",
     "shell.execute_reply": "2024-06-20T18:18:55.275600Z"
    }
   },
   "outputs": [],
   "source": [
    "plt.rcParams['text.latex.preamble'] = r'\\renewcommand{\\vec}{\\mathbf}'\n",
    "plt.rc('text', usetex=True)\n",
    "plt.rc('font', family='serif')"
   ]
  },
  {
   "cell_type": "code",
   "execution_count": 3,
   "id": "14d78b9b",
   "metadata": {
    "execution": {
     "iopub.execute_input": "2024-06-20T18:18:55.278077Z",
     "iopub.status.busy": "2024-06-20T18:18:55.277951Z",
     "iopub.status.idle": "2024-06-20T18:18:55.292401Z",
     "shell.execute_reply": "2024-06-20T18:18:55.292045Z"
    }
   },
   "outputs": [],
   "source": [
    "class get_hamiltonian():\n",
    "\n",
    "    def __init__(self,J,Jz,s):\n",
    "        self.N = len(J)\n",
    "        self.s = s\n",
    "        self.J = J\n",
    "        self.Jz = Jz\n",
    "        self.dtype = np.float128\n",
    "\n",
    "        self.M = int(2*self.s+1)\n",
    "        self.Sx = np.zeros((self.M,self.M),dtype='complex')\n",
    "        self.Sy = np.zeros((self.M,self.M),dtype='complex')\n",
    "        self.Sz = np.zeros((self.M,self.M),dtype='complex')\n",
    "        for i in range(self.M):\n",
    "            for j in range(self.M):\n",
    "                self.Sx[i,j] = ((i==j+1)+(i+1==j))*np.sqrt(s*(s+1)-(s-i)*(s-j))/2\n",
    "                self.Sy[i,j] = ((i+1==j)-(i==j+1))*np.sqrt(s*(s+1)-(s-i)*(s-j))/2j\n",
    "                self.Sz[i,j] = (i==j)*(s-i)\n",
    "\n",
    "    def __matmul__(self,v):\n",
    "                \n",
    "        if v.ndim == 2:\n",
    "            m,n = v.shape\n",
    "        else:\n",
    "            m = len(v)\n",
    "            n = 1 \n",
    "    \n",
    "        out = np.zeros((m,n),dtype='complex')\n",
    "\n",
    "        for j in range(self.N):\n",
    "            if  np.count_nonzero(self.J[:,j]) != 0:\n",
    "                I1 = self.M**j\n",
    "                I2 = self.M**(self.N-j-1)\n",
    "                Sxj_v = ((self.Sx@v.T.reshape(n,I1,-1,I2))).reshape(n,-1).T\n",
    "                Syj_v = ((self.Sy@v.T.reshape(n,I1,-1,I2))).reshape(n,-1).T\n",
    "                Szj_v = ((self.Sz@v.T.reshape(n,I1,-1,I2))).reshape(n,-1).T\n",
    "\n",
    "                # symmetry\n",
    "                for i in range(j):\n",
    "                    if self.J[i,j] != 0:\n",
    "                        I1 = self.M**i\n",
    "                        I2 = self.M**(self.N-i-1)\n",
    "                        Sxi_Sxj_v = ((self.Sx@Sxj_v.T.reshape(n,I1,-1,I2))).reshape(n,-1).T\n",
    "                        Syi_Syj_v = ((self.Sy@Syj_v.T.reshape(n,I1,-1,I2))).reshape(n,-1).T\n",
    "\n",
    "                        out += (2-(i==j))*self.J[i,j] * ( Sxi_Sxj_v + Syi_Syj_v )\n",
    "\n",
    "                out += self.Jz[j] * Szj_v\n",
    "            \n",
    "        return out.flatten() if n==1 else out\n",
    "    \n",
    "    def tosparse(self):\n",
    "                \n",
    "        out = sp.sparse.coo_matrix((self.M**self.N,self.M**self.N),dtype='complex')\n",
    "\n",
    "        for j in range(self.N):\n",
    "            if  np.count_nonzero(self.J[:,j]) != 0:\n",
    "                I1 = sp.sparse.eye(self.M**j,dtype='complex')\n",
    "                I2 = sp.sparse.eye(self.M**(self.N-j-1),dtype='complex')\n",
    "                Sxj = sp.sparse.kron(sp.sparse.kron(I1,self.Sx),I2)\n",
    "                Syj = sp.sparse.kron(sp.sparse.kron(I1,self.Sy),I2)\n",
    "                Szj = sp.sparse.kron(sp.sparse.kron(I1,self.Sz),I2)\n",
    "\n",
    "                for i in range(j):\n",
    "                    if self.J[i,j] != 0:\n",
    "                        I1 = sp.sparse.eye(self.M**i,dtype='complex')\n",
    "                        I2 = sp.sparse.eye(self.M**(self.N-i-1),dtype='complex')\n",
    "                        Sxi_Sxj = sp.sparse.kron(sp.sparse.kron(I1,self.Sx),I2)@Sxj\n",
    "                        Syi_Syj = sp.sparse.kron(sp.sparse.kron(I1,self.Sy),I2)@Syj\n",
    "                        #Szi_Szj = sp.sparse.kron(sp.sparse.kron(I1,self.Sz),I2)@Szj\n",
    "\n",
    "                        out += (2-(i==j))*self.J[i,j] * ( Sxi_Sxj + Syi_Syj )\n",
    "\n",
    "                out += self.Jz[j] * Szj\n",
    "            \n",
    "        return out"
   ]
  },
  {
   "cell_type": "code",
   "execution_count": 4,
   "id": "018ae55e",
   "metadata": {
    "execution": {
     "iopub.execute_input": "2024-06-20T18:18:55.294072Z",
     "iopub.status.busy": "2024-06-20T18:18:55.293938Z",
     "iopub.status.idle": "2024-06-20T18:18:55.301411Z",
     "shell.execute_reply": "2024-06-20T18:18:55.301086Z"
    }
   },
   "outputs": [],
   "source": [
    "N = 12\n",
    "s = 1/2\n",
    "n = int((2*s+1)**N)"
   ]
  },
  {
   "cell_type": "code",
   "execution_count": 5,
   "id": "0a83ef31",
   "metadata": {
    "execution": {
     "iopub.execute_input": "2024-06-20T18:18:55.303252Z",
     "iopub.status.busy": "2024-06-20T18:18:55.303047Z",
     "iopub.status.idle": "2024-06-20T18:18:55.310123Z",
     "shell.execute_reply": "2024-06-20T18:18:55.309741Z"
    }
   },
   "outputs": [],
   "source": [
    "J = np.zeros((N,N))\n",
    "for i in range(N):\n",
    "    for j in range(N):\n",
    "        J[i,j] = ((i-j)%N==1) + ((j-i)%N==1)"
   ]
  },
  {
   "cell_type": "code",
   "execution_count": 6,
   "id": "6bf36b04",
   "metadata": {
    "execution": {
     "iopub.execute_input": "2024-06-20T18:18:55.311755Z",
     "iopub.status.busy": "2024-06-20T18:18:55.311564Z",
     "iopub.status.idle": "2024-06-20T18:18:55.358781Z",
     "shell.execute_reply": "2024-06-20T18:18:55.358311Z"
    }
   },
   "outputs": [],
   "source": [
    "H_mf = get_hamiltonian(J,np.zeros(N),s).tosparse()"
   ]
  },
  {
   "cell_type": "code",
   "execution_count": 7,
   "id": "9f152fe5",
   "metadata": {
    "execution": {
     "iopub.execute_input": "2024-06-20T18:18:55.360906Z",
     "iopub.status.busy": "2024-06-20T18:18:55.360756Z",
     "iopub.status.idle": "2024-06-20T18:19:00.023651Z",
     "shell.execute_reply": "2024-06-20T18:19:00.023104Z"
    }
   },
   "outputs": [],
   "source": [
    "λ=np.linalg.eigvalsh(H_mf.A)"
   ]
  },
  {
   "cell_type": "code",
   "execution_count": 8,
   "id": "72c9c6c3",
   "metadata": {
    "execution": {
     "iopub.execute_input": "2024-06-20T18:19:00.026300Z",
     "iopub.status.busy": "2024-06-20T18:19:00.026082Z",
     "iopub.status.idle": "2024-06-20T18:19:04.057467Z",
     "shell.execute_reply": "2024-06-20T18:19:04.056816Z"
    }
   },
   "outputs": [
    {
     "name": "stdout",
     "output_type": "stream",
     "text": [
      "iter=49\n"
     ]
    }
   ],
   "source": [
    "nv_max = 500\n",
    "k_max = 50\n",
    "\n",
    "np.random.seed(0)\n",
    "v = np.random.randn(n,nv_max)\n",
    "v /= np.linalg.norm(v,axis=0)\n",
    "\n",
    "(αL,βL) = lanczos_block(H_mf,v,k_max,verbose=True)"
   ]
  },
  {
   "cell_type": "code",
   "execution_count": 9,
   "id": "27a78ce3",
   "metadata": {
    "execution": {
     "iopub.execute_input": "2024-06-20T18:19:04.059642Z",
     "iopub.status.busy": "2024-06-20T18:19:04.059493Z",
     "iopub.status.idle": "2024-06-20T18:19:06.850166Z",
     "shell.execute_reply": "2024-06-20T18:19:06.849754Z"
    }
   },
   "outputs": [],
   "source": [
    "def Z_kB(β,θ,ω,offset=0):\n",
    "    \n",
    "    return ω@(np.exp(-β*(θ-offset))) \n",
    "\n",
    "n_β = 100\n",
    "\n",
    "kBT = np.logspace(-5,2,n_β)\n",
    "β = 1/kBT\n",
    "\n",
    "\n",
    "nvs = [1,500]\n",
    "ks = [5,10,20,50]\n",
    "Z_kB_ED = np.full((len(nvs),len(ks),n_β),np.nan)\n",
    "\n",
    "Z_kB_gq_ave = np.full((len(nvs),len(ks),n_β),np.nan)\n",
    "Z_kB_iq_ave = np.full((len(nvs),len(ks),n_β),np.nan)\n",
    "Z_kB_diq_ave = np.full((len(nvs),len(ks),n_β),np.nan)\n",
    "\n",
    "for nvi,nv in enumerate(nvs):\n",
    "    for ki,k in enumerate(ks):\n",
    "        θ_gq = np.full((nv,k),np.nan)\n",
    "        ω_gq = np.full((nv,k),np.nan)\n",
    "        \n",
    "        for j in range(nv):\n",
    "            θ_gq[j],ω_gq[j] = get_gq(k,αL[:,j],βL[:,j])\n",
    "            \n",
    "        θ_gq_ave = θ_gq.reshape(-1)\n",
    "        ω_gq_ave = ω_gq.reshape(-1)/nv\n",
    "        \n",
    "        a,b = λ[0],λ[-1]\n",
    "        \n",
    "        αT = np.ones(2*k_max+1)*(a+b)/2\n",
    "        βT = np.ones(2*k_max+1)*(b-a)/4\n",
    "        βT[0] *= np.sqrt(2)\n",
    "        \n",
    "        m = np.full((nv,2*k+1),np.nan)\n",
    "        \n",
    "        for j in range(nv):\n",
    "            m[j] = get_moments_from_lanczos(H_mf,v,2*k,αT,βT,T=(αL[:,j],βL[:,j]))\n",
    "        \n",
    "        θ_iq = np.full((nv,2*k+1),np.nan)\n",
    "        ω_iq = np.full((nv,2*k+1),np.nan)\n",
    "        \n",
    "        for j in range(nv):\n",
    "            θ_iq[j],ω_iq[j] = get_iq(m[j],2*k,αT,βT)\n",
    "            \n",
    "        θ_iq_ave = np.mean(θ_iq,axis=0)\n",
    "        ω_iq_ave = np.mean(ω_iq,axis=0)\n",
    "    \n",
    "    \n",
    "        for i in range(n_β):\n",
    "            with np.errstate(over='ignore', invalid='ignore'):\n",
    "                Z_kB_ED[nvi,ki,i] = Z_kB(β[i],λ,np.ones(n)/n,λ[0])\n",
    "                Z_kB_gq_ave[nvi,ki,i] = Z_kB(β[i],θ_gq_ave,ω_gq_ave,λ[0])\n",
    "                Z_kB_iq_ave[nvi,ki,i] = Z_kB(β[i],θ_iq_ave,ω_iq_ave,λ[0])"
   ]
  },
  {
   "cell_type": "code",
   "execution_count": 10,
   "id": "a288954f-ed83-4cc8-a630-e77c805a3202",
   "metadata": {
    "execution": {
     "iopub.execute_input": "2024-06-20T18:19:06.852952Z",
     "iopub.status.busy": "2024-06-20T18:19:06.852617Z",
     "iopub.status.idle": "2024-06-20T18:19:07.957925Z",
     "shell.execute_reply": "2024-06-20T18:19:07.957541Z"
    }
   },
   "outputs": [
    {
     "data": {
      "image/png": "[encoded data removed]",
      "text/plain": [
       "<Figure size 800x400 with 8 Axes>"
      ]
     },
     "metadata": {},
     "output_type": "display_data"
    }
   ],
   "source": [
    "fig,axs = plt.subplots(2,4,figsize=(8,4),sharex=True,sharey=True)\n",
    "plt.subplots_adjust(wspace=.1,hspace=.1)\n",
    "\n",
    "# axs = axs.flatten()\n",
    "\n",
    "for ki,k in enumerate(ks):\n",
    "    for nvi,nv in enumerate(nvs):\n",
    "        axs[nvi,ki].plot(β,np.abs(Z_kB_gq_ave[nvi,ki]-Z_kB_ED[nvi,ki]),label='gq',color='k',ls='--',lw=1)\n",
    "        axs[nvi,ki].plot(β,np.abs(Z_kB_iq_ave[nvi,ki]-Z_kB_ED[nvi,ki]),label='iq',color='k',ls='-.',lw=1)\n",
    "        axs[nvi,ki].text(.62,.15,rf'$k={k}$',transform=axs[nvi,ki].transAxes)\n",
    "        axs[nvi,ki].text(.62,.05,rf'$m={nv}$',transform=axs[nvi,ki].transAxes)\n",
    "\n",
    "axs[0,0].set_xscale('log')\n",
    "axs[0,0].set_yscale('log')\n",
    "#plt.legend()\n",
    "\n",
    "fig.text(0.5, 0.04,r'inverse temperature: $\\beta$', ha='center', va='center')\n",
    "fig.text(0.06, 0.5,r'error: $|\\int \\exp(-\\beta x) \\mathrm{d}\\Phi-\\int \\exp(-\\beta x) \\mathrm{d}[\\Psi]_s^{\\circ\\mathrm{q}}\\,|$', ha='center', va='center', rotation='vertical')\n",
    "\n",
    "#axs[0,0].set_xticks([1e-5,1e-4,1e-3,1e-2,1e-1,1e0,1e1],minor=True)\n",
    "axs[0,0].set_xticks([1e-1,1e2,1e5])\n",
    "\n",
    "#axs[0,0].set_xticklabels(['$10^{-5}$','','','$10^{-3}$','','','$10^1$'])#axs[0,0].set_xlim(1e-4,1e2)\n",
    "# plt.ylim(-.5,4.5)\n",
    "\n",
    "plt.savefig('imgs/spin_partition.pdf',bbox_inches='tight')"
   ]
  },
  {
   "cell_type": "code",
   "execution_count": null,
   "id": "7becd868-9f03-4058-9f3f-e0be0dbdf28e",
   "metadata": {},
   "outputs": [],
   "source": []
  }
 ],
 "metadata": {
  "kernelspec": {
   "display_name": "Python 3 (ipykernel)",
   "language": "python",
   "name": "python3"
  },
  "language_info": {
   "codemirror_mode": {
    "name": "ipython",
    "version": 3
   },
   "file_extension": ".py",
   "mimetype": "text/x-python",
   "name": "python",
   "nbconvert_exporter": "python",
   "pygments_lexer": "ipython3",
   "version": "3.10.9"
  }
 },
 "nbformat": 4,
 "nbformat_minor": 5
}
